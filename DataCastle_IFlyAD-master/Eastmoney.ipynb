{
 "cells": [
  {
   "cell_type": "code",
   "execution_count": 3,
   "metadata": {},
   "outputs": [],
   "source": [
    "data=pd.read_csv('/users/lisa/Downloads/data.txt',sep=' ')"
   ]
  },
  {
   "cell_type": "code",
   "execution_count": 4,
   "metadata": {},
   "outputs": [
    {
     "data": {
      "text/html": [
       "<div>\n",
       "<style scoped>\n",
       "    .dataframe tbody tr th:only-of-type {\n",
       "        vertical-align: middle;\n",
       "    }\n",
       "\n",
       "    .dataframe tbody tr th {\n",
       "        vertical-align: top;\n",
       "    }\n",
       "\n",
       "    .dataframe thead th {\n",
       "        text-align: right;\n",
       "    }\n",
       "</style>\n",
       "<table border=\"1\" class=\"dataframe\">\n",
       "  <thead>\n",
       "    <tr style=\"text-align: right;\">\n",
       "      <th></th>\n",
       "      <th>资产总计</th>\n",
       "      <th>存货</th>\n",
       "      <th>股票价格</th>\n",
       "      <th>营业收入</th>\n",
       "      <th>总负债</th>\n",
       "      <th>营业税金及附加</th>\n",
       "      <th>盈余公积金</th>\n",
       "      <th>应付利息</th>\n",
       "      <th>流动资产</th>\n",
       "      <th>负债总计</th>\n",
       "      <th>...</th>\n",
       "      <th>固定资产</th>\n",
       "      <th>销售费用</th>\n",
       "      <th>应收账款</th>\n",
       "      <th>杜邦分析</th>\n",
       "      <th>流动负债</th>\n",
       "      <th>未分配利润</th>\n",
       "      <th>递延所得税资产</th>\n",
       "      <th>实收资本（或股本）</th>\n",
       "      <th>评估分数</th>\n",
       "      <th>评估类别</th>\n",
       "    </tr>\n",
       "  </thead>\n",
       "  <tbody>\n",
       "    <tr>\n",
       "      <th>0</th>\n",
       "      <td>2.217318e+09</td>\n",
       "      <td>3.815482e+08</td>\n",
       "      <td>7.010000</td>\n",
       "      <td>2.765439e+08</td>\n",
       "      <td>6.779006e+08</td>\n",
       "      <td>3950136.68</td>\n",
       "      <td>19940955.96</td>\n",
       "      <td>147650.00</td>\n",
       "      <td>1.084460e+09</td>\n",
       "      <td>6.779006e+08</td>\n",
       "      <td>...</td>\n",
       "      <td>4.269396e+08</td>\n",
       "      <td>11380000.0</td>\n",
       "      <td>2.344472e+08</td>\n",
       "      <td>0.31</td>\n",
       "      <td>6.218321e+08</td>\n",
       "      <td>-1.173602e+08</td>\n",
       "      <td>29786912.06</td>\n",
       "      <td>471315045.0</td>\n",
       "      <td>5.58</td>\n",
       "      <td>可疑</td>\n",
       "    </tr>\n",
       "    <tr>\n",
       "      <th>1</th>\n",
       "      <td>2.207214e+09</td>\n",
       "      <td>3.536301e+08</td>\n",
       "      <td>10.855104</td>\n",
       "      <td>1.422020e+08</td>\n",
       "      <td>6.648887e+08</td>\n",
       "      <td>2086077.80</td>\n",
       "      <td>19940955.96</td>\n",
       "      <td>135937.50</td>\n",
       "      <td>1.074951e+09</td>\n",
       "      <td>6.648887e+08</td>\n",
       "      <td>...</td>\n",
       "      <td>4.303350e+08</td>\n",
       "      <td>5490000.0</td>\n",
       "      <td>2.358992e+08</td>\n",
       "      <td>0.53</td>\n",
       "      <td>6.094798e+08</td>\n",
       "      <td>-1.140389e+08</td>\n",
       "      <td>30839314.11</td>\n",
       "      <td>471315045.0</td>\n",
       "      <td>5.86</td>\n",
       "      <td>可疑</td>\n",
       "    </tr>\n",
       "    <tr>\n",
       "      <th>2</th>\n",
       "      <td>2.254490e+09</td>\n",
       "      <td>3.477926e+08</td>\n",
       "      <td>10.855104</td>\n",
       "      <td>5.447036e+08</td>\n",
       "      <td>6.757037e+08</td>\n",
       "      <td>9411815.11</td>\n",
       "      <td>19940955.96</td>\n",
       "      <td>250573.25</td>\n",
       "      <td>1.130873e+09</td>\n",
       "      <td>6.757037e+08</td>\n",
       "      <td>...</td>\n",
       "      <td>4.372179e+08</td>\n",
       "      <td>32900000.0</td>\n",
       "      <td>2.072280e+08</td>\n",
       "      <td>-4.00</td>\n",
       "      <td>6.187006e+08</td>\n",
       "      <td>-1.221642e+08</td>\n",
       "      <td>30839716.65</td>\n",
       "      <td>471315045.0</td>\n",
       "      <td>0.90</td>\n",
       "      <td>危险</td>\n",
       "    </tr>\n",
       "    <tr>\n",
       "      <th>3</th>\n",
       "      <td>2.296263e+09</td>\n",
       "      <td>3.495582e+08</td>\n",
       "      <td>10.855104</td>\n",
       "      <td>3.987835e+08</td>\n",
       "      <td>6.648364e+08</td>\n",
       "      <td>6962486.93</td>\n",
       "      <td>19940955.96</td>\n",
       "      <td>130500.00</td>\n",
       "      <td>1.173695e+09</td>\n",
       "      <td>6.648364e+08</td>\n",
       "      <td>...</td>\n",
       "      <td>4.325724e+08</td>\n",
       "      <td>22700000.0</td>\n",
       "      <td>2.488098e+08</td>\n",
       "      <td>-1.38</td>\n",
       "      <td>6.059497e+08</td>\n",
       "      <td>-8.164186e+07</td>\n",
       "      <td>28811471.14</td>\n",
       "      <td>471315045.0</td>\n",
       "      <td>4.23</td>\n",
       "      <td>危险</td>\n",
       "    </tr>\n",
       "    <tr>\n",
       "      <th>4</th>\n",
       "      <td>2.279716e+09</td>\n",
       "      <td>3.441467e+08</td>\n",
       "      <td>10.855104</td>\n",
       "      <td>2.689525e+08</td>\n",
       "      <td>6.356876e+08</td>\n",
       "      <td>4558045.63</td>\n",
       "      <td>19940955.96</td>\n",
       "      <td>130500.00</td>\n",
       "      <td>1.169410e+09</td>\n",
       "      <td>6.356876e+08</td>\n",
       "      <td>...</td>\n",
       "      <td>4.386941e+08</td>\n",
       "      <td>14270000.0</td>\n",
       "      <td>2.412882e+08</td>\n",
       "      <td>-0.75</td>\n",
       "      <td>5.845306e+08</td>\n",
       "      <td>-7.158161e+07</td>\n",
       "      <td>27488457.96</td>\n",
       "      <td>471315045.0</td>\n",
       "      <td>5.22</td>\n",
       "      <td>可疑</td>\n",
       "    </tr>\n",
       "  </tbody>\n",
       "</table>\n",
       "<p>5 rows × 28 columns</p>\n",
       "</div>"
      ],
      "text/plain": [
       "           资产总计            存货       股票价格          营业收入           总负债  \\\n",
       "0  2.217318e+09  3.815482e+08   7.010000  2.765439e+08  6.779006e+08   \n",
       "1  2.207214e+09  3.536301e+08  10.855104  1.422020e+08  6.648887e+08   \n",
       "2  2.254490e+09  3.477926e+08  10.855104  5.447036e+08  6.757037e+08   \n",
       "3  2.296263e+09  3.495582e+08  10.855104  3.987835e+08  6.648364e+08   \n",
       "4  2.279716e+09  3.441467e+08  10.855104  2.689525e+08  6.356876e+08   \n",
       "\n",
       "      营业税金及附加        盈余公积金       应付利息          流动资产          负债总计  ...   \\\n",
       "0  3950136.68  19940955.96  147650.00  1.084460e+09  6.779006e+08  ...    \n",
       "1  2086077.80  19940955.96  135937.50  1.074951e+09  6.648887e+08  ...    \n",
       "2  9411815.11  19940955.96  250573.25  1.130873e+09  6.757037e+08  ...    \n",
       "3  6962486.93  19940955.96  130500.00  1.173695e+09  6.648364e+08  ...    \n",
       "4  4558045.63  19940955.96  130500.00  1.169410e+09  6.356876e+08  ...    \n",
       "\n",
       "           固定资产        销售费用          应收账款  杜邦分析          流动负债         未分配利润  \\\n",
       "0  4.269396e+08  11380000.0  2.344472e+08  0.31  6.218321e+08 -1.173602e+08   \n",
       "1  4.303350e+08   5490000.0  2.358992e+08  0.53  6.094798e+08 -1.140389e+08   \n",
       "2  4.372179e+08  32900000.0  2.072280e+08 -4.00  6.187006e+08 -1.221642e+08   \n",
       "3  4.325724e+08  22700000.0  2.488098e+08 -1.38  6.059497e+08 -8.164186e+07   \n",
       "4  4.386941e+08  14270000.0  2.412882e+08 -0.75  5.845306e+08 -7.158161e+07   \n",
       "\n",
       "       递延所得税资产    实收资本（或股本）  评估分数  评估类别  \n",
       "0  29786912.06  471315045.0  5.58    可疑  \n",
       "1  30839314.11  471315045.0  5.86    可疑  \n",
       "2  30839716.65  471315045.0  0.90    危险  \n",
       "3  28811471.14  471315045.0  4.23    危险  \n",
       "4  27488457.96  471315045.0  5.22    可疑  \n",
       "\n",
       "[5 rows x 28 columns]"
      ]
     },
     "execution_count": 4,
     "metadata": {},
     "output_type": "execute_result"
    }
   ],
   "source": [
    "data.head()\n"
   ]
  },
  {
   "cell_type": "code",
   "execution_count": 5,
   "metadata": {},
   "outputs": [
    {
     "data": {
      "text/plain": [
       "健康    433\n",
       "可疑    241\n",
       "危险    220\n",
       "Name: 评估类别, dtype: int64"
      ]
     },
     "execution_count": 5,
     "metadata": {},
     "output_type": "execute_result"
    }
   ],
   "source": [
    "data['评估类别'].value_counts()"
   ]
  },
  {
   "cell_type": "code",
   "execution_count": 6,
   "metadata": {},
   "outputs": [],
   "source": [
    "data['评估类别']=data['评估类别'].replace(['健康','可疑','危险'],[2,1,0])"
   ]
  },
  {
   "cell_type": "code",
   "execution_count": 7,
   "metadata": {},
   "outputs": [
    {
     "data": {
      "text/plain": [
       "2    433\n",
       "1    241\n",
       "0    220\n",
       "Name: 评估类别, dtype: int64"
      ]
     },
     "execution_count": 7,
     "metadata": {},
     "output_type": "execute_result"
    }
   ],
   "source": [
    "data['评估类别'].value_counts()"
   ]
  },
  {
   "cell_type": "code",
   "execution_count": 8,
   "metadata": {},
   "outputs": [],
   "source": [
    "from sklearn.decomposition import PCA"
   ]
  },
  {
   "cell_type": "code",
   "execution_count": 9,
   "metadata": {},
   "outputs": [],
   "source": [
    "from sklearn.preprocessing import LabelEncoder,StandardScaler"
   ]
  },
  {
   "cell_type": "code",
   "execution_count": 10,
   "metadata": {},
   "outputs": [],
   "source": [
    "data.drop('评估分数',axis=1,inplace=True)"
   ]
  },
  {
   "cell_type": "code",
   "execution_count": 11,
   "metadata": {},
   "outputs": [],
   "source": [
    "sc = StandardScaler()\n",
    "data = sc.fit_transform(data)"
   ]
  },
  {
   "cell_type": "code",
   "execution_count": 12,
   "metadata": {},
   "outputs": [
    {
     "data": {
      "text/plain": [
       "array([[-4.77726152e-01, -3.53230054e-01, -1.07798155e+00, ...,\n",
       "        -2.59372899e-01, -4.82322713e-01, -2.90283155e-01],\n",
       "       [-4.78399354e-01, -3.67261778e-01,  2.35194409e-09, ...,\n",
       "        -2.52659846e-01, -4.82322713e-01, -2.90283155e-01],\n",
       "       [-4.75249349e-01, -3.70195715e-01,  2.35194409e-09, ...,\n",
       "        -2.52657278e-01, -4.82322713e-01, -1.50865471e+00],\n",
       "       ...,\n",
       "       [ 7.08879379e-01, -2.87827051e-01,  2.35194409e-09, ...,\n",
       "        -2.20542859e-01,  8.14162747e-01,  9.28088397e-01],\n",
       "       [ 6.66551440e-01, -3.82441542e-01,  2.35194409e-09, ...,\n",
       "        -2.63281604e-01,  8.14162747e-01,  9.28088397e-01],\n",
       "       [ 5.99305473e-01, -4.07452501e-01,  2.35194409e-09, ...,\n",
       "        -3.08288794e-01,  8.14162747e-01, -2.90283155e-01]])"
      ]
     },
     "execution_count": 12,
     "metadata": {},
     "output_type": "execute_result"
    }
   ],
   "source": [
    "data\n"
   ]
  },
  {
   "cell_type": "code",
   "execution_count": 13,
   "metadata": {},
   "outputs": [
    {
     "data": {
      "text/plain": [
       "(894, 27)"
      ]
     },
     "execution_count": 13,
     "metadata": {},
     "output_type": "execute_result"
    }
   ],
   "source": [
    "data.shape"
   ]
  },
  {
   "cell_type": "code",
   "execution_count": 15,
   "metadata": {},
   "outputs": [],
   "source": [
    "import numpy as np\n",
    "np.random.shuffle(data)\n",
    "xTrain= data[:700, :-1].astype('float32')\n",
    "yTrain= data[:700, -1].astype('int32')\n",
    "xTest= data[700:, :-1].astype('float32')\n",
    "yTest= data[700:, -1].astype('int32')"
   ]
  },
  {
   "cell_type": "code",
   "execution_count": 16,
   "metadata": {},
   "outputs": [
    {
     "name": "stdout",
     "output_type": "stream",
     "text": [
      "[5.3315878e-01 9.4095588e-02 7.0910156e-02 5.4585852e-02 5.2936539e-02\n",
      " 3.6296453e-02 3.0302307e-02 2.8703641e-02 2.2394793e-02 1.6337212e-02\n",
      " 1.4594840e-02 1.2020780e-02 9.4863782e-03 6.1169784e-03 5.5808853e-03\n",
      " 3.6276688e-03 3.4779969e-03 2.7048187e-03 1.5741023e-03 7.0131302e-04\n",
      " 2.3346143e-04 1.2287153e-04 3.6567340e-05 2.0899574e-15 1.6473387e-15\n",
      " 1.6473387e-15]\n"
     ]
    }
   ],
   "source": [
    "pca=PCA(n_components=None)\n",
    "pca.fit(xTrain,yTrain)\n",
    "print(pca.explained_variance_ratio_)"
   ]
  },
  {
   "cell_type": "code",
   "execution_count": 17,
   "metadata": {},
   "outputs": [],
   "source": [
    "pca_fit=pca.fit_transform(xTrain,yTrain)"
   ]
  },
  {
   "cell_type": "code",
   "execution_count": 18,
   "metadata": {},
   "outputs": [
    {
     "data": {
      "text/plain": [
       "array([[-1.55199981e+00, -4.96163726e-01, -1.17381297e-01, ...,\n",
       "         6.31723651e-06,  3.12901705e-07,  1.77164523e-07],\n",
       "       [-4.46458489e-01,  7.51743617e-04, -6.54296696e-01, ...,\n",
       "         6.82709569e-08, -1.22948768e-06,  7.76147772e-07],\n",
       "       [ 1.18145025e+00, -5.69296777e-01,  1.73060548e+00, ...,\n",
       "        -1.48123505e-08,  2.50521396e-07,  8.69515304e-08],\n",
       "       ...,\n",
       "       [-1.91624212e+00, -6.90990314e-02, -1.31053746e-01, ...,\n",
       "        -2.56231800e-08,  1.27736271e-07, -5.52479555e-08],\n",
       "       [-2.34622765e+00, -7.61429071e-02, -3.52909192e-02, ...,\n",
       "        -2.95486000e-08,  4.11174064e-08,  8.02129279e-08],\n",
       "       [-1.64621902e+00,  1.38487801e-01, -1.11171827e-01, ...,\n",
       "         1.58982516e-08,  1.92906979e-09,  5.60294069e-08]], dtype=float32)"
      ]
     },
     "execution_count": 18,
     "metadata": {},
     "output_type": "execute_result"
    }
   ],
   "source": [
    "pca_fit"
   ]
  },
  {
   "cell_type": "code",
   "execution_count": 19,
   "metadata": {},
   "outputs": [
    {
     "name": "stdout",
     "output_type": "stream",
     "text": [
      "0.8865979381443299\n"
     ]
    }
   ],
   "source": [
    "from sklearn.linear_model import LogisticRegression\n",
    "lr=LogisticRegression()\n",
    "lr.fit(xTrain,yTrain)\n",
    "print(lr.score(xTest,yTest))"
   ]
  },
  {
   "cell_type": "code",
   "execution_count": 20,
   "metadata": {},
   "outputs": [
    {
     "name": "stdout",
     "output_type": "stream",
     "text": [
      "0.7061855670103093\n"
     ]
    }
   ],
   "source": [
    "lr=LogisticRegression()\n",
    "lr.fit(pca_fit,yTrain)\n",
    "print(lr.score(xTest,yTest))"
   ]
  },
  {
   "cell_type": "code",
   "execution_count": null,
   "metadata": {},
   "outputs": [],
   "source": []
  }
 ],
 "metadata": {
  "kernelspec": {
   "display_name": "Python 3",
   "language": "python",
   "name": "python3"
  },
  "language_info": {
   "codemirror_mode": {
    "name": "ipython",
    "version": 3
   },
   "file_extension": ".py",
   "mimetype": "text/x-python",
   "name": "python",
   "nbconvert_exporter": "python",
   "pygments_lexer": "ipython3",
   "version": "3.6.3"
  }
 },
 "nbformat": 4,
 "nbformat_minor": 2
}
